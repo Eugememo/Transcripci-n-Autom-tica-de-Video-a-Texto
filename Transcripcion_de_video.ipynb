{
 "cells": [
  {
   "cell_type": "markdown",
   "metadata": {},
   "source": [
    "<h1>Paso 1: Instalar las bibliotecas necesarias</h1>\n",
    "Asegúrate de tener Python instalado y ejecutá los siguientes comandos en tu terminal para instalar las bibliotecas:"
   ]
  },
  {
   "cell_type": "code",
   "execution_count": null,
   "metadata": {},
   "outputs": [
    {
     "name": "stdout",
     "output_type": "stream",
     "text": [
      "Collecting moviepy\n",
      "  Downloading moviepy-1.0.3.tar.gz (388 kB)\n",
      "  Installing build dependencies: started\n",
      "  Installing build dependencies: finished with status 'done'\n",
      "  Getting requirements to build wheel: started\n",
      "  Getting requirements to build wheel: finished with status 'done'\n",
      "  Preparing metadata (pyproject.toml): started\n",
      "  Preparing metadata (pyproject.toml): finished with status 'done'\n",
      "Collecting speechrecognition\n",
      "  Downloading SpeechRecognition-3.11.0-py2.py3-none-any.whl.metadata (28 kB)\n",
      "Collecting pydub\n",
      "  Downloading pydub-0.25.1-py2.py3-none-any.whl.metadata (1.4 kB)\n",
      "Collecting decorator<5.0,>=4.0.2 (from moviepy)\n",
      "  Downloading decorator-4.4.2-py2.py3-none-any.whl.metadata (4.2 kB)\n",
      "Requirement already satisfied: tqdm<5.0,>=4.11.2 in c:\\users\\practical tecno\\appdata\\local\\programs\\python\\python311\\lib\\site-packages (from moviepy) (4.66.4)\n",
      "Requirement already satisfied: requests<3.0,>=2.8.1 in c:\\users\\practical tecno\\appdata\\local\\programs\\python\\python311\\lib\\site-packages (from moviepy) (2.32.3)\n",
      "Collecting proglog<=1.0.0 (from moviepy)\n",
      "  Downloading proglog-0.1.10-py3-none-any.whl.metadata (639 bytes)\n",
      "Requirement already satisfied: numpy>=1.17.3 in c:\\users\\practical tecno\\appdata\\local\\programs\\python\\python311\\lib\\site-packages (from moviepy) (1.26.4)\n",
      "Collecting imageio<3.0,>=2.5 (from moviepy)\n",
      "  Downloading imageio-2.36.0-py3-none-any.whl.metadata (5.2 kB)\n",
      "Collecting imageio-ffmpeg>=0.2.0 (from moviepy)\n",
      "  Downloading imageio_ffmpeg-0.5.1-py3-none-win_amd64.whl.metadata (1.6 kB)\n",
      "Requirement already satisfied: typing-extensions in c:\\users\\practical tecno\\appdata\\roaming\\python\\python311\\site-packages (from speechrecognition) (4.11.0)\n",
      "Requirement already satisfied: pillow>=8.3.2 in c:\\users\\practical tecno\\appdata\\local\\programs\\python\\python311\\lib\\site-packages (from imageio<3.0,>=2.5->moviepy) (10.3.0)\n",
      "Requirement already satisfied: setuptools in c:\\users\\practical tecno\\appdata\\local\\programs\\python\\python311\\lib\\site-packages (from imageio-ffmpeg>=0.2.0->moviepy) (65.5.0)\n",
      "Requirement already satisfied: charset-normalizer<4,>=2 in c:\\users\\practical tecno\\appdata\\local\\programs\\python\\python311\\lib\\site-packages (from requests<3.0,>=2.8.1->moviepy) (3.3.2)\n",
      "Requirement already satisfied: idna<4,>=2.5 in c:\\users\\practical tecno\\appdata\\local\\programs\\python\\python311\\lib\\site-packages (from requests<3.0,>=2.8.1->moviepy) (2.10)\n",
      "Requirement already satisfied: urllib3<3,>=1.21.1 in c:\\users\\practical tecno\\appdata\\local\\programs\\python\\python311\\lib\\site-packages (from requests<3.0,>=2.8.1->moviepy) (2.2.2)\n",
      "Requirement already satisfied: certifi>=2017.4.17 in c:\\users\\practical tecno\\appdata\\local\\programs\\python\\python311\\lib\\site-packages (from requests<3.0,>=2.8.1->moviepy) (2024.6.2)\n",
      "Requirement already satisfied: colorama in c:\\users\\practical tecno\\appdata\\roaming\\python\\python311\\site-packages (from tqdm<5.0,>=4.11.2->moviepy) (0.4.6)\n",
      "Downloading SpeechRecognition-3.11.0-py2.py3-none-any.whl (32.8 MB)\n",
      "   ---------------------------------------- 0.0/32.8 MB ? eta -:--:--\n",
      "   -------- ------------------------------- 7.3/32.8 MB 34.7 MB/s eta 0:00:01\n",
      "   ----------------- ---------------------- 14.7/32.8 MB 35.4 MB/s eta 0:00:01\n",
      "   --------------------------- ------------ 22.8/32.8 MB 36.1 MB/s eta 0:00:01\n",
      "   ------------------------------------- -- 30.9/32.8 MB 37.0 MB/s eta 0:00:01\n",
      "   ---------------------------------------- 32.8/32.8 MB 32.6 MB/s eta 0:00:00\n",
      "Downloading pydub-0.25.1-py2.py3-none-any.whl (32 kB)\n",
      "Downloading decorator-4.4.2-py2.py3-none-any.whl (9.2 kB)\n",
      "Downloading imageio-2.36.0-py3-none-any.whl (315 kB)\n",
      "Downloading imageio_ffmpeg-0.5.1-py3-none-win_amd64.whl (22.6 MB)\n",
      "   ---------------------------------------- 0.0/22.6 MB ? eta -:--:--\n",
      "   ------------- -------------------------- 7.9/22.6 MB 40.4 MB/s eta 0:00:01\n",
      "   --------------------------- ------------ 15.5/22.6 MB 37.4 MB/s eta 0:00:01\n",
      "   ---------------------------------------- 22.6/22.6 MB 36.7 MB/s eta 0:00:00\n",
      "Downloading proglog-0.1.10-py3-none-any.whl (6.1 kB)\n",
      "Building wheels for collected packages: moviepy\n",
      "  Building wheel for moviepy (pyproject.toml): started\n",
      "  Building wheel for moviepy (pyproject.toml): finished with status 'done'\n",
      "  Created wheel for moviepy: filename=moviepy-1.0.3-py3-none-any.whl size=110766 sha256=f27872090fbe526f04288d1de5b8697db0c6ff22263163faa00a9c017f653a59\n",
      "  Stored in directory: c:\\users\\practical tecno\\appdata\\local\\pip\\cache\\wheels\\83\\b1\\d9\\119ef7c144b44d591ec0a9a140465133c23ea95d2a161184ba\n",
      "Successfully built moviepy\n",
      "Installing collected packages: pydub, imageio-ffmpeg, imageio, decorator, speechrecognition, proglog, moviepy\n",
      "  Attempting uninstall: decorator\n",
      "    Found existing installation: decorator 5.1.1\n",
      "    Uninstalling decorator-5.1.1:\n",
      "      Successfully uninstalled decorator-5.1.1\n",
      "Successfully installed decorator-4.4.2 imageio-2.36.0 imageio-ffmpeg-0.5.1 moviepy-1.0.3 proglog-0.1.10 pydub-0.25.1 speechrecognition-3.11.0\n",
      "Note: you may need to restart the kernel to use updated packages.\n"
     ]
    },
    {
     "name": "stderr",
     "output_type": "stream",
     "text": [
      "\n",
      "[notice] A new release of pip is available: 24.2 -> 24.3.1\n",
      "[notice] To update, run: python.exe -m pip install --upgrade pip\n"
     ]
    }
   ],
   "source": [
    "#pip install moviepy speechrecognition pydub"
   ]
  },
  {
   "cell_type": "markdown",
   "metadata": {},
   "source": [
    "<h1>Paso 2: Escribir el código en Python</h1>\n",
    "Usá el siguiente script para extraer el audio del video y transcribirlo:"
   ]
  },
  {
   "cell_type": "code",
   "execution_count": 3,
   "metadata": {},
   "outputs": [],
   "source": [
    "import speech_recognition as sr\n",
    "import moviepy.editor as mp"
   ]
  },
  {
   "cell_type": "code",
   "execution_count": 4,
   "metadata": {},
   "outputs": [],
   "source": [
    "# Ruta al archivo de video\n",
    "video_tiktok = \"Download.mp4\""
   ]
  },
  {
   "cell_type": "code",
   "execution_count": 5,
   "metadata": {},
   "outputs": [
    {
     "name": "stdout",
     "output_type": "stream",
     "text": [
      "MoviePy - Writing audio in audio_extraido.wav\n"
     ]
    },
    {
     "name": "stderr",
     "output_type": "stream",
     "text": [
      "                                                                    "
     ]
    },
    {
     "name": "stdout",
     "output_type": "stream",
     "text": [
      "MoviePy - Done.\n"
     ]
    },
    {
     "name": "stderr",
     "output_type": "stream",
     "text": [
      "\r"
     ]
    }
   ],
   "source": [
    "# Cargar el video y extraer el audio\n",
    "video_clip = mp.VideoFileClip(video_tiktok)\n",
    "audio_path = \"audio_extraido.wav\"\n",
    "video_clip.audio.write_audiofile(audio_path)"
   ]
  },
  {
   "cell_type": "code",
   "execution_count": 6,
   "metadata": {},
   "outputs": [],
   "source": [
    "# Inicializar el reconocedor de voz\n",
    "recognizer = sr.Recognizer()"
   ]
  },
  {
   "cell_type": "code",
   "execution_count": 7,
   "metadata": {},
   "outputs": [],
   "source": [
    "# Transcribir el audio\n",
    "with sr.AudioFile(audio_path) as source:\n",
    "    audio = recognizer.record(source)"
   ]
  },
  {
   "cell_type": "code",
   "execution_count": 8,
   "metadata": {},
   "outputs": [
    {
     "name": "stdout",
     "output_type": "stream",
     "text": [
      "Transcripción:\n",
      " nunca me van a poder tener porque el concepto de ser individual es una mentira perpetuada por la sociedad capitalista mi cuerpo no es más que un cascarón vacío y la persona que ustedes creen percibir es una aglomeración de propaganda política y pedagógica regurgitado por la burguesía a lo largo de la historia no se puede amar o poseer alguien que no existe\n"
     ]
    }
   ],
   "source": [
    "try:\n",
    "    # Convertir el audio a texto\n",
    "    transcription = recognizer.recognize_google(audio, language=\"es-ES\")\n",
    "    print(\"Transcripción:\\n\", transcription)\n",
    "except sr.UnknownValueError:\n",
    "    print(\"No se pudo entender el audio.\")\n",
    "except sr.RequestError:\n",
    "    print(\"Error al intentar transcribir el audio.\")"
   ]
  },
  {
   "cell_type": "markdown",
   "metadata": {},
   "source": [
    "<h1>Paso 3: Ejecutar el script</h1>\n",
    "Guardá el código en un archivo .py (por ejemplo, transcribir_video.py) y ejecutalo con:"
   ]
  },
  {
   "cell_type": "code",
   "execution_count": 10,
   "metadata": {},
   "outputs": [
    {
     "name": "stderr",
     "output_type": "stream",
     "text": [
      "python: can't open file 'c:\\\\Users\\\\Practical Tecno\\\\Desktop\\\\Proyectos\\\\Transcripción de Video\\\\transcribir_video.py': [Errno 2] No such file or directory\n"
     ]
    }
   ],
   "source": [
    "!python transcribir_video.py"
   ]
  }
 ],
 "metadata": {
  "kernelspec": {
   "display_name": "Python 3",
   "language": "python",
   "name": "python3"
  },
  "language_info": {
   "codemirror_mode": {
    "name": "ipython",
    "version": 3
   },
   "file_extension": ".py",
   "mimetype": "text/x-python",
   "name": "python",
   "nbconvert_exporter": "python",
   "pygments_lexer": "ipython3",
   "version": "3.11.9"
  }
 },
 "nbformat": 4,
 "nbformat_minor": 2
}
